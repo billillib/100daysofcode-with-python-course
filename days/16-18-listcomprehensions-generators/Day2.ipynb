{
 "cells": [
  {
   "cell_type": "code",
   "execution_count": 9,
   "metadata": {},
   "outputs": [],
   "source": [
    "import random"
   ]
  },
  {
   "cell_type": "code",
   "execution_count": 10,
   "metadata": {},
   "outputs": [],
   "source": [
    "NAMES = ['arnold schwarzenegger', 'alec baldwin', 'bob belderbos',\n",
    "         'julian sequeira', 'sandra bullock', 'keanu reeves',\n",
    "         'julbob pybites', 'bob belderbos', 'julian sequeira',\n",
    "         'al pacino', 'brad pitt', 'matt damon', 'brad pitt']"
   ]
  },
  {
   "cell_type": "code",
   "execution_count": 11,
   "metadata": {},
   "outputs": [
    {
     "name": "stdout",
     "output_type": "stream",
     "text": [
      "Arnold Schwarzenegger\n",
      "Alec Baldwin\n",
      "Bob Belderbos\n",
      "Julian Sequeira\n",
      "Sandra Bullock\n",
      "Keanu Reeves\n",
      "Julbob Pybites\n",
      "Bob Belderbos\n",
      "Julian Sequeira\n",
      "Al Pacino\n",
      "Brad Pitt\n",
      "Matt Damon\n",
      "Brad Pitt\n"
     ]
    }
   ],
   "source": [
    "for n in NAMES:\n",
    "    print(n.title())"
   ]
  },
  {
   "cell_type": "code",
   "execution_count": 12,
   "metadata": {},
   "outputs": [
    {
     "name": "stdout",
     "output_type": "stream",
     "text": [
      "['Arnold Schwarzenegger', 'Alec Baldwin', 'Bob Belderbos', 'Julian Sequeira', 'Sandra Bullock', 'Keanu Reeves', 'Julbob Pybites', 'Bob Belderbos', 'Julian Sequeira', 'Al Pacino', 'Brad Pitt', 'Matt Damon', 'Brad Pitt']\n"
     ]
    }
   ],
   "source": [
    "title_name = [n.title() for n in NAMES]\n",
    "print(title_name)"
   ]
  },
  {
   "cell_type": "code",
   "execution_count": 13,
   "metadata": {},
   "outputs": [
    {
     "name": "stdout",
     "output_type": "stream",
     "text": [
      "['Schwarzenegger Arnold', 'Baldwin Alec', 'Belderbos Bob', 'Sequeira Julian', 'Bullock Sandra', 'Reeves Keanu', 'Pybites Julbob', 'Belderbos Bob', 'Sequeira Julian', 'Pacino Al', 'Pitt Brad', 'Damon Matt', 'Pitt Brad']\n"
     ]
    }
   ],
   "source": [
    "lst = [\" \".join(reversed(n.title().split())) for n in NAMES]\n",
    "print(lst)"
   ]
  },
  {
   "cell_type": "markdown",
   "metadata": {},
   "source": [
    "Then use this same list and make a little generator, for example to randomly return a pair of names, try to make this work:\n",
    "\n",
    "pairs = gen_pairs()\n",
    "for _ in range(10):\n",
    "    next(pairs)\n",
    "Should print (values might change as random):\n",
    "\n",
    "Arnold teams up with Brad\n",
    "Alec teams up with Julian\n",
    "Have fun!"
   ]
  },
  {
   "cell_type": "code",
   "execution_count": 14,
   "metadata": {},
   "outputs": [],
   "source": [
    "def gen_pairs(names):\n",
    "    first_names = [name.split()[0] for name in names]\n",
    "    player_1 = None\n",
    "    player_2 = None \n",
    "    while True:\n",
    "        player_1, player_2 = random.sample(first_names,2)\n",
    "        yield f'{player_1} teams up with {player_2}'"
   ]
  },
  {
   "cell_type": "code",
   "execution_count": 15,
   "metadata": {},
   "outputs": [],
   "source": [
    "pairs = gen_pairs(NAMES)"
   ]
  },
  {
   "cell_type": "code",
   "execution_count": 16,
   "metadata": {},
   "outputs": [
    {
     "name": "stdout",
     "output_type": "stream",
     "text": [
      "matt teams up with bob\n",
      "brad teams up with julbob\n",
      "alec teams up with sandra\n",
      "arnold teams up with julian\n",
      "julian teams up with alec\n",
      "brad teams up with sandra\n",
      "brad teams up with julian\n",
      "julian teams up with bob\n",
      "sandra teams up with julian\n",
      "matt teams up with keanu\n"
     ]
    }
   ],
   "source": [
    "for _ in range(10):\n",
    "    print(next(pairs))"
   ]
  },
  {
   "cell_type": "code",
   "execution_count": null,
   "metadata": {},
   "outputs": [],
   "source": []
  }
 ],
 "metadata": {
  "kernelspec": {
   "display_name": "Python 3",
   "language": "python",
   "name": "python3"
  },
  "language_info": {
   "codemirror_mode": {
    "name": "ipython",
    "version": 3
   },
   "file_extension": ".py",
   "mimetype": "text/x-python",
   "name": "python",
   "nbconvert_exporter": "python",
   "pygments_lexer": "ipython3",
   "version": "3.6.6"
  }
 },
 "nbformat": 4,
 "nbformat_minor": 2
}
