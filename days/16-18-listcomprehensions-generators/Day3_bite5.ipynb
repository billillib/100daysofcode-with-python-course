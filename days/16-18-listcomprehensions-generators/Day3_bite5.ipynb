{
 "cells": [
  {
   "cell_type": "code",
   "execution_count": 40,
   "metadata": {},
   "outputs": [],
   "source": [
    "NAMES = ['arnold schwarzenegger', 'alec baldwin', 'bob belderbos',\n",
    "         'julian sequeira', 'sandra bullock', 'keanu reeves',\n",
    "         'julbob pybites', 'bob belderbos', 'julian sequeira',\n",
    "         'al pacino', 'brad pitt', 'matt damon', 'brad pitt']\n",
    "\n",
    "\n",
    "def dedup_and_title_case_names(names):\n",
    "    \"\"\"Should return a list of names, each name appears only once\"\"\"\n",
    "    result = [name.title() for name in names]\n",
    "    return list(set(result))\n",
    "\n",
    "\n",
    "def sort_by_surname_desc(names):\n",
    "    \"\"\"Returns names list sorted desc by surname\"\"\"\n",
    "    names = dedup_and_title_case_names(names)\n",
    "    names = sorted(names, key=lambda names: names.split()[1], reverse=True)\n",
    "    return names\n",
    "\n",
    "def shortest_first_name(names):\n",
    "    \"\"\"Returns the shortest first name (str)\"\"\"\n",
    "    names = dedup_and_title_case_names(names)\n",
    "\n",
    "    lengths = [len(name.split()[0]) for name in names]\n",
    "    \n",
    "    min_name = min(lengths)\n",
    "    \n",
    "    for name in names:\n",
    "        if len(name.split()[0]) == min_name:\n",
    "            return name.split()[0]\n",
    "    \n",
    "#     result = [name.split()[0] for name in names if len(name.split()[0]) == min_name]\n",
    "#     return result[0]"
   ]
  },
  {
   "cell_type": "code",
   "execution_count": 42,
   "metadata": {},
   "outputs": [],
   "source": [
    "NAMES = ['arnold schwarzenegger', 'alec baldwin', 'bob belderbos',\n",
    "         'julian sequeira', 'sandra bullock', 'keanu reeves',\n",
    "         'julbob pybites', 'bob belderbos', 'julian sequeira',\n",
    "         'al pacino', 'brad pitt', 'matt damon', 'brad pitt']\n",
    "\n",
    "\n",
    "def dedup_and_title_case_names(names):\n",
    "    \"\"\"Should return a list of names, each name appears only once\"\"\"\n",
    "    return list({name.title() for name in names})\n",
    "\n",
    "\n",
    "def sort_by_surname_desc(names):\n",
    "    \"\"\"Returns names list sorted desc by surname\"\"\"\n",
    "    names = dedup_and_title_case_names(names)\n",
    "    return sorted(names,\n",
    "                  key=lambda x: x.split()[-1],\n",
    "                  reverse=True)\n",
    "\n",
    "\n",
    "def shortest_first_name(names):\n",
    "    \"\"\"Returns the shortest first name (str)\"\"\"\n",
    "    names = dedup_and_title_case_names(names)\n",
    "    names = [name.split()[0] for name in names]\n",
    "    return min(names, key=len)"
   ]
  },
  {
   "cell_type": "code",
   "execution_count": null,
   "metadata": {},
   "outputs": [],
   "source": []
  }
 ],
 "metadata": {
  "kernelspec": {
   "display_name": "Python 3",
   "language": "python",
   "name": "python3"
  },
  "language_info": {
   "codemirror_mode": {
    "name": "ipython",
    "version": 3
   },
   "file_extension": ".py",
   "mimetype": "text/x-python",
   "name": "python",
   "nbconvert_exporter": "python",
   "pygments_lexer": "ipython3",
   "version": "3.6.6"
  }
 },
 "nbformat": 4,
 "nbformat_minor": 2
}
