{
 "cells": [
  {
   "cell_type": "code",
   "execution_count": 20,
   "metadata": {},
   "outputs": [],
   "source": [
    "import logging\n",
    "import os\n",
    "from datetime import datetime\n",
    "from time import sleep"
   ]
  },
  {
   "cell_type": "code",
   "execution_count": 26,
   "metadata": {},
   "outputs": [],
   "source": [
    "# Get CWD\n",
    "log_dir = os.getcwd() + '/logs/'\n",
    "\n",
    "# Create logs folder if it doesn't exist \n",
    "if not os.path.exists(log_dir):\n",
    "    os.makedirs(log_dir)\n",
    "\n",
    "# Set logging\n",
    "logging.basicConfig(\n",
    "    format='%(asctime)s | %(levelname)s | %(message)s',\n",
    "    datefmt='%m/%d/%Y %I:%M:%S %p',\n",
    "    filename=log_dir+'test.log',\n",
    "    level=logging.INFO)"
   ]
  },
  {
   "cell_type": "code",
   "execution_count": 27,
   "metadata": {},
   "outputs": [
    {
     "name": "stdout",
     "output_type": "stream",
     "text": [
      "/Users/bill/code/100daysofcode-with-python-course/days/01-03-datetimes/code/logs/\n"
     ]
    }
   ],
   "source": [
    "print(log_dir)"
   ]
  },
  {
   "cell_type": "code",
   "execution_count": 28,
   "metadata": {},
   "outputs": [],
   "source": [
    "def dummy_function(seconds):\n",
    "    '''\n",
    "    A dummy function that creates a log entry on start. \n",
    "    Sleeps z seconds. \n",
    "    Then logs upon completion including the timedelta elapsed. \n",
    "    '''\n",
    "    # Create a start datetime object\n",
    "    start_time = datetime.today()\n",
    "    \n",
    "    # Create starting log entry \n",
    "    logging.info(\"Beginning dummy function\")\n",
    "    \n",
    "    # Sleep z seconds\n",
    "    time.sleep(seconds)\n",
    "    \n",
    "    # Create an end datetime object\n",
    "    end_time = datetime.today()\n",
    "    \n",
    "    # Elapsed time \n",
    "    elapsed = end_time - start_time\n",
    "    \n",
    "    # Create ending log entry \n",
    "    logging.info(\"End of processing. {} seconds elapsed.\".format(elapsed))\n",
    "    "
   ]
  },
  {
   "cell_type": "code",
   "execution_count": 29,
   "metadata": {},
   "outputs": [],
   "source": [
    "logging.info(\"Beginning dummy function\")"
   ]
  },
  {
   "cell_type": "code",
   "execution_count": null,
   "metadata": {},
   "outputs": [],
   "source": []
  }
 ],
 "metadata": {
  "kernelspec": {
   "display_name": "Python 3",
   "language": "python",
   "name": "python3"
  },
  "language_info": {
   "codemirror_mode": {
    "name": "ipython",
    "version": 3
   },
   "file_extension": ".py",
   "mimetype": "text/x-python",
   "name": "python",
   "nbconvert_exporter": "python",
   "pygments_lexer": "ipython3",
   "version": "3.6.6"
  }
 },
 "nbformat": 4,
 "nbformat_minor": 2
}
