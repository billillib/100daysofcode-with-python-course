{
 "cells": [
  {
   "cell_type": "code",
   "execution_count": 66,
   "metadata": {},
   "outputs": [],
   "source": [
    "'''Extract datetimes from log entries and calculate the time\n",
    "   between the first and last shutdown events'''\n",
    "from datetime import datetime\n",
    "import os\n",
    "import urllib.request\n",
    "\n",
    "SHUTDOWN_EVENT = 'Shutdown initiated'\n",
    "\n",
    "# prep: read in the logfile\n",
    "logfile = os.path.join('/tmp', 'log')\n",
    "urllib.request.urlretrieve('http://bit.ly/2AKSIbf', logfile)\n",
    "\n",
    "with open(logfile) as f:\n",
    "    loglines = f.readlines()\n",
    "\n",
    "\n",
    "# for you to code:\n",
    "\n",
    "def convert_to_datetime(line):\n",
    "    '''TODO 1:\n",
    "       Given a log line extract its timestamp and convert it to a datetime object. \n",
    "       For example calling the function with:\n",
    "       INFO 2014-07-03T23:27:51 supybot Shutdown complete.\n",
    "       returns:\n",
    "       datetime(2014, 7, 3, 23, 27, 51)'''\n",
    "    timestamp = line.split()[1]\n",
    "    return datetime.strptime(timestamp,'%Y-%m-%dT%H:%M:%S')\n",
    "\n",
    "def time_between_shutdowns(loglines):\n",
    "    '''TODO 2:\n",
    "       Extract shutdown events (\"Shutdown initiated\") from loglines and calculate the \n",
    "       timedelta between the first and last one. \n",
    "       Return this datetime.timedelta object.'''\n",
    "    shutdown_events = [convert_to_datetime(lines) for lines in loglines if SHUTDOWN_EVENT in lines]\n",
    "    return shutdown_events[-1] - shutdown_events[0]"
   ]
  }
 ],
 "metadata": {
  "kernelspec": {
   "display_name": "Python 3",
   "language": "python",
   "name": "python3"
  },
  "language_info": {
   "codemirror_mode": {
    "name": "ipython",
    "version": 3
   },
   "file_extension": ".py",
   "mimetype": "text/x-python",
   "name": "python",
   "nbconvert_exporter": "python",
   "pygments_lexer": "ipython3",
   "version": "3.6.6"
  }
 },
 "nbformat": 4,
 "nbformat_minor": 2
}
