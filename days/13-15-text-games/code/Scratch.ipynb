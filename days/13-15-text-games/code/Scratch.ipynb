{
 "cells": [
  {
   "cell_type": "code",
   "execution_count": 1,
   "metadata": {},
   "outputs": [],
   "source": [
    "import random"
   ]
  },
  {
   "cell_type": "code",
   "execution_count": 2,
   "metadata": {},
   "outputs": [],
   "source": [
    "class Roll:\n",
    "\n",
    "    def __init__(self, name):\n",
    "        self.name = name\n",
    "        self.beats = None\n",
    "        self.loses = None\n",
    "        \n",
    "    def can_defeat(self, beats):\n",
    "        if self.beats == beats:\n",
    "            return True\n",
    "        else:\n",
    "            return False\n",
    "        \n",
    "    def loses_to(self, loses):\n",
    "        if self.loses == loses:\n",
    "            return True\n",
    "        else:\n",
    "            return False"
   ]
  },
  {
   "cell_type": "code",
   "execution_count": 3,
   "metadata": {},
   "outputs": [],
   "source": [
    "def create_rolls():\n",
    "    paper = Roll('Paper')\n",
    "    rock = Roll('Rock')\n",
    "    scissors = Roll('Scissors')\n",
    "    \n",
    "    paper.beats = rock\n",
    "    paper.loses = scissors\n",
    "    \n",
    "    rock.beats = scissors\n",
    "    rock.loses = paper\n",
    "    \n",
    "    scissors.beats = paper\n",
    "    scissors.loses = rock \n",
    "    \n",
    "    return paper, rock, scissors"
   ]
  },
  {
   "cell_type": "code",
   "execution_count": 4,
   "metadata": {},
   "outputs": [],
   "source": [
    "def game_action(player,computer):\n",
    "    print(f'You chose {player.name}, computer chose {computer.name}')\n",
    "    if player.can_defeat(computer):\n",
    "        print('You won!')\n",
    "    elif player.loses_to(computer):\n",
    "        print('You lost!')\n",
    "    else:\n",
    "        print('Tie!')"
   ]
  },
  {
   "cell_type": "code",
   "execution_count": 33,
   "metadata": {},
   "outputs": [],
   "source": [
    "def player_input(rolls):\n",
    "    choice = input(\"[R]ock, [P]aper, [S]cissors: \")\n",
    "    if choice.upper() == 'R':\n",
    "        return rolls[1]\n",
    "    elif choice.upper() == 'P':\n",
    "        return rolls[0]\n",
    "    elif choice.upper() == 'S':\n",
    "        return rolls[2]\n",
    "    else:\n",
    "        print(\"Invalid input\")"
   ]
  },
  {
   "cell_type": "code",
   "execution_count": 34,
   "metadata": {},
   "outputs": [],
   "source": [
    "rolls = create_rolls()"
   ]
  },
  {
   "cell_type": "code",
   "execution_count": 35,
   "metadata": {},
   "outputs": [
    {
     "name": "stdin",
     "output_type": "stream",
     "text": [
      "[R]ock, [P]aper, [S]cissors:  r\n"
     ]
    }
   ],
   "source": [
    "player_roll = player_input(rolls)"
   ]
  },
  {
   "cell_type": "code",
   "execution_count": 30,
   "metadata": {},
   "outputs": [
    {
     "data": {
      "text/plain": [
       "'Scissors'"
      ]
     },
     "execution_count": 30,
     "metadata": {},
     "output_type": "execute_result"
    }
   ],
   "source": [
    "player_roll.name"
   ]
  },
  {
   "cell_type": "code",
   "execution_count": 6,
   "metadata": {},
   "outputs": [
    {
     "data": {
      "text/plain": [
       "'Rock'"
      ]
     },
     "execution_count": 6,
     "metadata": {},
     "output_type": "execute_result"
    }
   ],
   "source": [
    "computer_choice = random.choice(rolls)\n",
    "computer_choice.name"
   ]
  },
  {
   "cell_type": "code",
   "execution_count": 11,
   "metadata": {},
   "outputs": [
    {
     "data": {
      "text/plain": [
       "'Rock'"
      ]
     },
     "execution_count": 11,
     "metadata": {},
     "output_type": "execute_result"
    }
   ],
   "source": [
    "my_choice = rolls[1]\n",
    "my_choice.name"
   ]
  },
  {
   "cell_type": "code",
   "execution_count": 12,
   "metadata": {},
   "outputs": [
    {
     "name": "stdout",
     "output_type": "stream",
     "text": [
      "You chose Rock, computer chose Rock\n",
      "Tie!\n"
     ]
    }
   ],
   "source": [
    "game_action(my_choice,computer_choice)"
   ]
  },
  {
   "cell_type": "code",
   "execution_count": null,
   "metadata": {},
   "outputs": [],
   "source": [
    "def game_loop:\n",
    "    "
   ]
  }
 ],
 "metadata": {
  "kernelspec": {
   "display_name": "Python 3",
   "language": "python",
   "name": "python3"
  },
  "language_info": {
   "codemirror_mode": {
    "name": "ipython",
    "version": 3
   },
   "file_extension": ".py",
   "mimetype": "text/x-python",
   "name": "python",
   "nbconvert_exporter": "python",
   "pygments_lexer": "ipython3",
   "version": "3.6.6"
  }
 },
 "nbformat": 4,
 "nbformat_minor": 2
}
