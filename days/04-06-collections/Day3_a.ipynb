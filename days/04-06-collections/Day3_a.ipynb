{
 "cells": [
  {
   "cell_type": "code",
   "execution_count": 2,
   "metadata": {},
   "outputs": [],
   "source": [
    "from collections import defaultdict, namedtuple, Counter\n",
    "import csv\n",
    "from sys import argv\n",
    "\n",
    "file = '/Users/bill/Downloads/baseballdatabank-master/core/Batting.csv'#str(argv[1])\n",
    "num = str(argv[2])\n",
    "offensive_players = defaultdict(list)\n",
    "\n",
    "\n",
    "def get_season_by_player():\n",
    "    '''\n",
    "    Creates a dictionary of players with key = players name\n",
    "    Value is a list of named_tuples for each season\n",
    "    '''\n",
    "\n",
    "    player_season = namedtuple('player_season', 'year team hits hrs')\n",
    "\n",
    "    with open(file) as f:\n",
    "        for row in csv.DictReader(f):\n",
    "            name = row['playerID']\n",
    "            year = row['yearID']\n",
    "            team = row['teamID']\n",
    "            hits = row['H']\n",
    "            hr = row['HR']\n",
    "\n",
    "            # create\n",
    "            b = player_season(year=year, team=team, hits=hits, hrs=hr)\n",
    "            # append the tuple into the values of the dict (list)\n",
    "\n",
    "            offensive_players[name].append(b)\n",
    "\n",
    "\n",
    "def get_most_seasons(n):\n",
    "    '''\n",
    "    Return n most seasons in MLB history by player\n",
    "    '''\n",
    "    season_counter = Counter()\n",
    "\n",
    "    for k, v in offensive_players.items():\n",
    "        season_counter[k] += len(v)\n",
    "\n",
    "    return season_counter.most_common(n)\n",
    "\n",
    "\n",
    "def get_most_hits(n):\n",
    "    '''\n",
    "    Return n most hits in MLB history by player\n",
    "    '''\n",
    "    hit_counter = Counter()\n",
    "\n",
    "    for k, v in offensive_players.items():\n",
    "        for i in v:\n",
    "            hit_counter[k] += int(i.hits)\n",
    "\n",
    "    return hit_counter.most_common(n)\n",
    "\n",
    "\n",
    "def get_most_hrs(n):\n",
    "    '''\n",
    "    Return n most hrs in MLB history by player\n",
    "    '''\n",
    "    hr_counter = Counter()\n",
    "\n",
    "    for k, v in offensive_players.items():\n",
    "        for i in v:\n",
    "            hr_counter[k] += int(i.hrs)\n",
    "\n",
    "    return hr_counter.most_common(n)\n",
    "\n",
    "\n",
    "if __name__ == '__main__':\n",
    "    get_season_by_player()\n",
    "    # get_most_seasons(num)\n",
    "    # get_most_hits(num)\n",
    "    # get_most_hrs(num)\n"
   ]
  },
  {
   "cell_type": "code",
   "execution_count": 4,
   "metadata": {},
   "outputs": [],
   "source": [
    "this = get_most_hits(10)"
   ]
  },
  {
   "cell_type": "code",
   "execution_count": 6,
   "metadata": {},
   "outputs": [
    {
     "name": "stdout",
     "output_type": "stream",
     "text": [
      "[('rosepe01', 4256), ('cobbty01', 4189), ('aaronha01', 3771), ('musiast01', 3630), ('speaktr01', 3514), ('jeterde01', 3465), ('ansonca01', 3435), ('wagneho01', 3420), ('yastrca01', 3419), ('molitpa01', 3319)]\n"
     ]
    }
   ],
   "source": [
    "print(get_most_hits(10))"
   ]
  },
  {
   "cell_type": "code",
   "execution_count": 26,
   "metadata": {},
   "outputs": [
    {
     "name": "stdout",
     "output_type": "stream",
     "text": [
      "1. rosepe01 4256\n",
      "2. cobbty01 4189\n",
      "3. aaronha01 3771\n",
      "4. musiast01 3630\n",
      "5. speaktr01 3514\n",
      "6. jeterde01 3465\n",
      "7. ansonca01 3435\n",
      "8. wagneho01 3420\n",
      "9. yastrca01 3419\n",
      "10. molitpa01 3319\n"
     ]
    }
   ],
   "source": [
    "for idx,i in enumerate(this):\n",
    "    print('{}. {} {}'.format(idx+1,i[0],i[1]))"
   ]
  },
  {
   "cell_type": "code",
   "execution_count": null,
   "metadata": {},
   "outputs": [],
   "source": []
  }
 ],
 "metadata": {
  "kernelspec": {
   "display_name": "Python 3",
   "language": "python",
   "name": "python3"
  },
  "language_info": {
   "codemirror_mode": {
    "name": "ipython",
    "version": 3
   },
   "file_extension": ".py",
   "mimetype": "text/x-python",
   "name": "python",
   "nbconvert_exporter": "python",
   "pygments_lexer": "ipython3",
   "version": "3.6.6"
  }
 },
 "nbformat": 4,
 "nbformat_minor": 2
}
