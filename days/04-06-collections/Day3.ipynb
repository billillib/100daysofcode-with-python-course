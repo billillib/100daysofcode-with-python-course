{
 "cells": [
  {
   "cell_type": "markdown",
   "metadata": {},
   "source": [
    "### Idea  \n",
    "\n",
    "Download the HOF data from lahmans site.  \n",
    "\n",
    "Just apply concepts similar to example. "
   ]
  },
  {
   "cell_type": "code",
   "execution_count": 68,
   "metadata": {},
   "outputs": [],
   "source": [
    "from collections import defaultdict, namedtuple, Counter, OrderedDict\n",
    "import csv\n",
    "import urllib.request"
   ]
  },
  {
   "cell_type": "code",
   "execution_count": 13,
   "metadata": {},
   "outputs": [],
   "source": [
    "file = '/Users/bill/Downloads/baseballdatabank-master/core/Batting.csv'"
   ]
  },
  {
   "cell_type": "code",
   "execution_count": 111,
   "metadata": {},
   "outputs": [],
   "source": [
    "def get_season_by_player():\n",
    "    '''\n",
    "    Creates a dictionary of players with key = players name \n",
    "    Value is a list of named_tuples for each season \n",
    "    \n",
    "    '''\n",
    "    \n",
    "    player_season = namedtuple('player_season', 'year team hits hrs')\n",
    "    \n",
    "    offensive_players = defaultdict(list)\n",
    "\n",
    "    with open(file) as f:\n",
    "        for row in csv.DictReader(f):\n",
    "            name = row['playerID']\n",
    "            year = row['yearID']\n",
    "            team = row['teamID']\n",
    "            hits = row['H']\n",
    "            hr   = row['HR']\n",
    "\n",
    "            # create \n",
    "            b = player_season(year = year, team = team, hits = hits, hrs = hr)\n",
    "            # append the tuple into the values of the dict (list) \n",
    "\n",
    "            offensive_players[name].append(b)\n",
    "        "
   ]
  },
  {
   "cell_type": "code",
   "execution_count": 112,
   "metadata": {},
   "outputs": [],
   "source": [
    "def get_most_seasons(n):\n",
    "    '''\n",
    "    Return n most seasons in MLB history by player\n",
    "    '''\n",
    "    season_counter = Counter()\n",
    "\n",
    "    for k,v in offensive_players.items():\n",
    "        season_counter[k] += len(v)\n",
    "\n",
    "    return season_counter.most_common(n)"
   ]
  },
  {
   "cell_type": "code",
   "execution_count": 114,
   "metadata": {},
   "outputs": [],
   "source": [
    "def get_most_hits(n):\n",
    "    '''\n",
    "    Return n most hits in MLB history by player\n",
    "    '''\n",
    "    hit_counter = Counter()\n",
    "    \n",
    "    for k,v in offensive_players.items():\n",
    "        for i in v:\n",
    "            hit_counter[k] += int(i.hits)\n",
    "            \n",
    "    return hit_counter.most_common(n)"
   ]
  },
  {
   "cell_type": "code",
   "execution_count": 120,
   "metadata": {},
   "outputs": [],
   "source": [
    "def get_most_hrs(n):\n",
    "    '''\n",
    "    Return n most hrs in MLB history by player\n",
    "    '''\n",
    "    hr_counter = Counter()\n",
    "    \n",
    "    for k,v in offensive_players.items():\n",
    "        for i in v:\n",
    "            hr_counter[k] += int(i.hrs)\n",
    "            \n",
    "    return hr_counter.most_common(n)"
   ]
  },
  {
   "cell_type": "code",
   "execution_count": 121,
   "metadata": {},
   "outputs": [
    {
     "data": {
      "text/plain": [
       "[('bondsba01', 762),\n",
       " ('aaronha01', 755),\n",
       " ('ruthba01', 714),\n",
       " ('rodrial01', 696),\n",
       " ('mayswi01', 660),\n",
       " ('griffke02', 630),\n",
       " ('pujolal01', 614),\n",
       " ('thomeji01', 612),\n",
       " ('sosasa01', 609),\n",
       " ('robinfr02', 586)]"
      ]
     },
     "execution_count": 121,
     "metadata": {},
     "output_type": "execute_result"
    }
   ],
   "source": [
    "get_most_hrs(10)"
   ]
  },
  {
   "cell_type": "code",
   "execution_count": null,
   "metadata": {},
   "outputs": [],
   "source": []
  }
 ],
 "metadata": {
  "kernelspec": {
   "display_name": "Python 3",
   "language": "python",
   "name": "python3"
  },
  "language_info": {
   "codemirror_mode": {
    "name": "ipython",
    "version": 3
   },
   "file_extension": ".py",
   "mimetype": "text/x-python",
   "name": "python",
   "nbconvert_exporter": "python",
   "pygments_lexer": "ipython3",
   "version": "3.6.6"
  }
 },
 "nbformat": 4,
 "nbformat_minor": 2
}
