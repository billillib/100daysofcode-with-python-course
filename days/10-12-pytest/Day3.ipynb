{
 "cells": [
  {
   "cell_type": "code",
   "execution_count": 78,
   "metadata": {},
   "outputs": [],
   "source": [
    "import psycopg2"
   ]
  },
  {
   "cell_type": "code",
   "execution_count": 92,
   "metadata": {},
   "outputs": [],
   "source": [
    "class MyDB:\n",
    "    def __init__(self):\n",
    "        self.conn = None\n",
    "\n",
    "    def __enter__(self):\n",
    "        self.conn = psycopg2.connect(\"host=localhost dbname=test user=postgres password=docker\")\n",
    "        self.conn.autocommit = True\n",
    "        \n",
    "    def __exit__(self, *args):\n",
    "        if self.conn:\n",
    "            self.conn.close()\n",
    "            self.conn = None"
   ]
  },
  {
   "cell_type": "code",
   "execution_count": 93,
   "metadata": {},
   "outputs": [],
   "source": [
    "MyPG = MyDBe()"
   ]
  },
  {
   "cell_type": "code",
   "execution_count": 101,
   "metadata": {},
   "outputs": [],
   "source": [
    "with MyPG:\n",
    "    cursor = MyPG.conn.cursor()\n",
    "    cursor.execute(\"SELECT * FROM test_table\")\n",
    "#     MyPG.conn.rollback()\n",
    "    results_1 = cursor.fetchone()\n",
    "    "
   ]
  },
  {
   "cell_type": "code",
   "execution_count": 103,
   "metadata": {},
   "outputs": [
    {
     "name": "stdout",
     "output_type": "stream",
     "text": [
      "(1, 'a')\n"
     ]
    }
   ],
   "source": [
    "print(results_1)"
   ]
  },
  {
   "cell_type": "code",
   "execution_count": null,
   "metadata": {},
   "outputs": [],
   "source": []
  }
 ],
 "metadata": {
  "kernelspec": {
   "display_name": "Python 3",
   "language": "python",
   "name": "python3"
  },
  "language_info": {
   "codemirror_mode": {
    "name": "ipython",
    "version": 3
   },
   "file_extension": ".py",
   "mimetype": "text/x-python",
   "name": "python",
   "nbconvert_exporter": "python",
   "pygments_lexer": "ipython3",
   "version": "3.6.6"
  }
 },
 "nbformat": 4,
 "nbformat_minor": 2
}
