{
 "cells": [
  {
   "cell_type": "code",
   "execution_count": 94,
   "metadata": {},
   "outputs": [],
   "source": [
    "cars = {\n",
    "    'Ford': ['Falcon', 'Focus', 'Festiva', 'Fairlane'],\n",
    "    'Holden': ['Commodore', 'Captiva', 'Barina', 'Trailblazer'],\n",
    "    'Nissan': ['Maxima', 'Pulsar', '350Z', 'Navara'],\n",
    "    'Honda': ['Civic', 'Accord', 'Odyssey', 'Jazz'],\n",
    "    'Jeep': ['Grand Cherokee', 'Cherokee', 'Trailhawk', 'Trackhawk']\n",
    "}\n",
    "\n",
    "\n",
    "def get_all_jeeps(cars=cars):\n",
    "    \"\"\"return a comma  + space (', ') separated string of jeep models (original order)\"\"\"\n",
    "    jeeps = cars.get('Jeep')\n",
    "        \n",
    "    return ', '.join(jeeps)\n",
    "\n",
    "\n",
    "def get_first_model_each_manufacturer(cars=cars):\n",
    "    \"\"\"return a list of matching models (original ordering)\"\"\"\n",
    "    first_model = []\n",
    "    \n",
    "    for k, v in cars.items():\n",
    "        first_model.append(v[0])\n",
    "\n",
    "    return first_model\n",
    "\n",
    "def get_all_matching_models(cars=cars, grep='trail'):\n",
    "    \"\"\"return a list of all models containing the case insensitive\n",
    "       'grep' string which defaults to 'trail' for this exercise,\n",
    "       sort the resulting sequence alphabetically\"\"\"\n",
    "    matching = []\n",
    "    \n",
    "    for car_list in cars.values():\n",
    "        for car in car_list:\n",
    "            if grep.lower() in car.lower():\n",
    "                matching.append(car)\n",
    "                \n",
    "    matching.sort()\n",
    "    \n",
    "    return matching\n",
    "    \n",
    "def sort_car_models(cars=cars):\n",
    "    \"\"\"sort the car models (values) and return the resulting cars dict\"\"\"\n",
    "    sorted_cars = {}\n",
    "    \n",
    "    for k,v in cars.items():\n",
    "        v.sort()\n",
    "        sorted_cars[k] = v\n",
    "    \n",
    "    return sorted_cars"
   ]
  }
 ],
 "metadata": {
  "kernelspec": {
   "display_name": "Python 3",
   "language": "python",
   "name": "python3"
  },
  "language_info": {
   "codemirror_mode": {
    "name": "ipython",
    "version": 3
   },
   "file_extension": ".py",
   "mimetype": "text/x-python",
   "name": "python",
   "nbconvert_exporter": "python",
   "pygments_lexer": "ipython3",
   "version": "3.6.6"
  }
 },
 "nbformat": 4,
 "nbformat_minor": 2
}
