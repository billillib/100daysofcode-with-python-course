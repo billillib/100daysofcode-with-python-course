{
 "cells": [
  {
   "cell_type": "code",
   "execution_count": 1,
   "metadata": {},
   "outputs": [],
   "source": [
    "import os "
   ]
  },
  {
   "cell_type": "code",
   "execution_count": 13,
   "metadata": {},
   "outputs": [],
   "source": [
    "cwd = os.listdir()"
   ]
  },
  {
   "cell_type": "code",
   "execution_count": 14,
   "metadata": {},
   "outputs": [
    {
     "name": "stdout",
     "output_type": "stream",
     "text": [
      "<class 'str'>\n",
      "<class 'str'>\n",
      "<class 'str'>\n",
      "<class 'str'>\n",
      "<class 'str'>\n",
      "<class 'str'>\n",
      "<class 'str'>\n",
      "<class 'str'>\n",
      "<class 'str'>\n",
      "<class 'str'>\n",
      "<class 'str'>\n",
      "<class 'str'>\n",
      "<class 'str'>\n",
      "<class 'str'>\n",
      "<class 'str'>\n",
      "<class 'str'>\n",
      "<class 'str'>\n",
      "<class 'str'>\n",
      "<class 'str'>\n",
      "<class 'str'>\n",
      "<class 'str'>\n",
      "<class 'str'>\n",
      "<class 'str'>\n",
      "<class 'str'>\n",
      "<class 'str'>\n",
      "<class 'str'>\n",
      "<class 'str'>\n",
      "<class 'str'>\n",
      "<class 'str'>\n",
      "<class 'str'>\n",
      "<class 'str'>\n",
      "<class 'str'>\n",
      "<class 'str'>\n",
      "<class 'str'>\n",
      "<class 'str'>\n",
      "<class 'str'>\n"
     ]
    }
   ],
   "source": [
    "cwd.sort()\n",
    "for i in cwd:\n",
    "    print(type(i))"
   ]
  },
  {
   "cell_type": "code",
   "execution_count": 11,
   "metadata": {},
   "outputs": [],
   "source": [
    "cwd = ['123','b1','a']"
   ]
  },
  {
   "cell_type": "code",
   "execution_count": 16,
   "metadata": {},
   "outputs": [
    {
     "name": "stdout",
     "output_type": "stream",
     "text": [
      ".ipynb_checkpoints\n",
      "01-03-datetimes\n",
      "04-06-collections\n",
      "07-09-data-structures\n",
      "10-12-pytest\n",
      "100-freestyle\n",
      "13-15-text-games\n",
      "16-18-listcomprehensions-generators\n",
      "19-21-itertools\n",
      "22-24-decorators\n",
      "25-27-error-handling\n",
      "28-30-regex\n",
      "31-33-logging\n",
      "34-36-refactoring\n",
      "37-39-csv-data-analsys\n",
      "40-42-json-data\n",
      "43-45-search-api\n",
      "46-48-beautifulsoup4\n",
      "49-51-measuring-perf\n",
      "52-54-feedparser\n",
      "55-57-uplink\n",
      "58-60-twitter-api\n",
      "61-63-github-api\n",
      "64-66-email-smtplib\n",
      "67-69-pyperclip\n",
      "70-72-openpyxl-excel-automation\n",
      "73-75-selenium\n",
      "76-78-flask\n",
      "79-81-sqlite3\n",
      "82-84-dataviz-plotly\n",
      "85-87-full-stack-easy\n",
      "88-90-home-inventory-app\n",
      "91-93-sqlalchemy\n",
      "94-96-guis\n",
      "97-99-online-game-api\n",
      "Untitled.ipynb\n"
     ]
    }
   ],
   "source": [
    "for i in cwd:\n",
    "    print(i)"
   ]
  },
  {
   "cell_type": "code",
   "execution_count": null,
   "metadata": {},
   "outputs": [],
   "source": []
  }
 ],
 "metadata": {
  "kernelspec": {
   "display_name": "Python 3",
   "language": "python",
   "name": "python3"
  },
  "language_info": {
   "codemirror_mode": {
    "name": "ipython",
    "version": 3
   },
   "file_extension": ".py",
   "mimetype": "text/x-python",
   "name": "python",
   "nbconvert_exporter": "python",
   "pygments_lexer": "ipython3",
   "version": "3.6.7"
  }
 },
 "nbformat": 4,
 "nbformat_minor": 2
}
