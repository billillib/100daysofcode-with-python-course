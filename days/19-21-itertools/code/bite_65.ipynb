{
 "cells": [
  {
   "cell_type": "code",
   "execution_count": 12,
   "metadata": {},
   "outputs": [],
   "source": [
    "import itertools\n",
    "import os\n",
    "import urllib.request\n",
    "import string\n",
    " \n",
    "# PREWORK\n",
    "DICTIONARY = os.path.join('/tmp', 'dictionary.txt')\n",
    "urllib.request.urlretrieve('http://bit.ly/2iQ3dlZ', DICTIONARY)\n",
    "\n",
    "with open(DICTIONARY) as f:\n",
    "    dictionary = set([word.strip().lower() for word in f.read().split()])\n",
    "\n",
    "\n",
    "def get_possible_dict_words(draw):\n",
    "    \"\"\"Get all possible words from a draw (list of letters) which are\n",
    "       valid dictionary words. Use _get_permutations_draw and provided\n",
    "       dictionary\"\"\"\n",
    "    perms = _get_permutations_draw(draw)\n",
    "    \n",
    "    words = []\n",
    "    \n",
    "    for combos in perms:\n",
    "        for letter in combos:  \n",
    "            if ''.join(letter).lower() in dictionary:\n",
    "                words.append(''.join(letter).lower())\n",
    "    \n",
    "    return words\n",
    "    \n",
    "def _get_permutations_draw(draw):\n",
    "    \n",
    "    return [list(itertools.permutations(draw,i)) for i in range(2,len(draw)+1)]"
   ]
  },
  {
   "cell_type": "code",
   "execution_count": 14,
   "metadata": {},
   "outputs": [],
   "source": [
    "import itertools\n",
    "import os\n",
    "import urllib.request\n",
    "\n",
    "# PREWORK\n",
    "DICTIONARY = os.path.join('/tmp', 'dictionary.txt')\n",
    "urllib.request.urlretrieve('http://bit.ly/2iQ3dlZ', DICTIONARY)\n",
    "\n",
    "with open(DICTIONARY) as f:\n",
    "    dictionary = set([word.strip().lower() for word in f.read().split()])\n",
    "\n",
    "\n",
    "def get_possible_dict_words(draw):\n",
    "    \"\"\"Get all possible words from a draw (list of letters) which are\n",
    "       valid dictionary words. Use _get_permutations_draw and provided\n",
    "       dictionary\"\"\"\n",
    "    permutations = [''.join(word).lower()\n",
    "                    for word in _get_permutations_draw(draw)]\n",
    "    return set(permutations) & set(dictionary)\n",
    "\n",
    "\n",
    "def _get_permutations_draw(draw):\n",
    "    \"\"\"Helper to get all permutations of a draw (list of letters), hint:\n",
    "       use itertools.permutations (order of letters matters)\"\"\"\n",
    "    for i in range(1, 8):\n",
    "        yield from list(itertools.permutations(draw, i))"
   ]
  },
  {
   "cell_type": "code",
   "execution_count": null,
   "metadata": {},
   "outputs": [],
   "source": []
  }
 ],
 "metadata": {
  "kernelspec": {
   "display_name": "Python 3",
   "language": "python",
   "name": "python3"
  },
  "language_info": {
   "codemirror_mode": {
    "name": "ipython",
    "version": 3
   },
   "file_extension": ".py",
   "mimetype": "text/x-python",
   "name": "python",
   "nbconvert_exporter": "python",
   "pygments_lexer": "ipython3",
   "version": "3.6.7"
  }
 },
 "nbformat": 4,
 "nbformat_minor": 2
}
