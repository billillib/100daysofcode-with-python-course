{
 "cells": [
  {
   "cell_type": "code",
   "execution_count": 12,
   "metadata": {},
   "outputs": [],
   "source": [
    "import itertools\n",
    "import os\n",
    "import urllib.request\n",
    "import string\n",
    "\n",
    "# PREWORK\n",
    "DICTIONARY = os.path.join('/tmp', 'dictionary.txt')\n",
    "urllib.request.urlretrieve('http://bit.ly/2iQ3dlZ', DICTIONARY)\n",
    "\n",
    "with open(DICTIONARY) as f:\n",
    "    dictionary = set([word.strip().lower() for word in f.read().split()])\n",
    "\n",
    "\n",
    "def get_possible_dict_words(draw):\n",
    "    \"\"\"Get all possible words from a draw (list of letters) which are\n",
    "       valid dictionary words. Use _get_permutations_draw and provided\n",
    "       dictionary\"\"\"\n",
    "    perms = _get_permutations_draw(draw)\n",
    "    \n",
    "    words = []\n",
    "    \n",
    "    for combos in perms:\n",
    "        for letter in combos:  \n",
    "            if ''.join(letter).lower() in dictionary:\n",
    "                words.append(''.join(letter).lower())\n",
    "    \n",
    "    return words\n",
    "    \n",
    "def _get_permutations_draw(draw):\n",
    "    \n",
    "    return [list(itertools.permutations(draw,i)) for i in range(2,len(draw)+1)]"
   ]
  }
 ],
 "metadata": {
  "kernelspec": {
   "display_name": "Python 3",
   "language": "python",
   "name": "python3"
  },
  "language_info": {
   "codemirror_mode": {
    "name": "ipython",
    "version": 3
   },
   "file_extension": ".py",
   "mimetype": "text/x-python",
   "name": "python",
   "nbconvert_exporter": "python",
   "pygments_lexer": "ipython3",
   "version": "3.6.7"
  }
 },
 "nbformat": 4,
 "nbformat_minor": 2
}
