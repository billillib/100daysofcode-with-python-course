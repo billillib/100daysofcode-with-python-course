{
 "cells": [
  {
   "cell_type": "code",
   "execution_count": 6,
   "metadata": {},
   "outputs": [],
   "source": [
    "import re\n",
    "\n",
    "def extract_course_times():\n",
    "    \"\"\"Write a regular expression that returns a list of timestamps:\n",
    "        ['01:47', '32:03', '41:51', '27:48', '05:02']\"\"\"\n",
    "    flask_course = ('Introduction 1 Lecture 01:47'\n",
    "                    'The Basics 4 Lectures 32:03'\n",
    "                    'Getting Technical!  4 Lectures 41:51'\n",
    "                    'Challenge 2 Lectures 27:48'\n",
    "                    'Afterword 1 Lecture 05:02')\n",
    "    return re.findall(r'\\d+:\\d+', flask_course)\n",
    "\n",
    "\n",
    "def get_all_hashtags_and_links():\n",
    "    \"\"\"Write a regular expression that returns this list:\n",
    "       ['http://pybit.es/requests-cache.html', '#python', '#APIs']\"\"\"\n",
    "    tweet = ('New PyBites article: Module of the Week - Requests-cache '\n",
    "             'for Repeated API Calls - http://pybit.es/requests-cache.html '\n",
    "             '#python #APIs')\n",
    "    pass\n",
    "\n",
    "\n",
    "def match_first_paragraph():\n",
    "    \"\"\"Write a regular expression that returns  'pybites != greedy' \"\"\"\n",
    "    html = ('<p>pybites != greedy</p>'\n",
    "            '<p>not the same can be said REgarding ...</p>')\n",
    "    pass"
   ]
  },
  {
   "cell_type": "code",
   "execution_count": 7,
   "metadata": {},
   "outputs": [
    {
     "data": {
      "text/plain": [
       "['01:47', '32:03', '41:51', '27:48', '05:02']"
      ]
     },
     "execution_count": 7,
     "metadata": {},
     "output_type": "execute_result"
    }
   ],
   "source": [
    "extract_course_times()"
   ]
  },
  {
   "cell_type": "code",
   "execution_count": 9,
   "metadata": {},
   "outputs": [],
   "source": [
    "tweet = ('New PyBites article: Module of the Week - Requests-cache '\n",
    "             'for Repeated API Calls - http://pybit.es/requests-cache.html '\n",
    "             '#python #APIs')"
   ]
  },
  {
   "cell_type": "code",
   "execution_count": 10,
   "metadata": {},
   "outputs": [
    {
     "data": {
      "text/plain": [
       "'New PyBites article: Module of the Week - Requests-cache for Repeated API Calls - http://pybit.es/requests-cache.html #python #APIs'"
      ]
     },
     "execution_count": 10,
     "metadata": {},
     "output_type": "execute_result"
    }
   ],
   "source": [
    "tweet"
   ]
  },
  {
   "cell_type": "code",
   "execution_count": 24,
   "metadata": {},
   "outputs": [
    {
     "data": {
      "text/plain": [
       "['#python', '#APIs', ['http://pybit.es/requests-cache.html']]"
      ]
     },
     "execution_count": 24,
     "metadata": {},
     "output_type": "execute_result"
    }
   ],
   "source": [
    "this = re.findall(r'(\\#[a-zA-Z\\d]+\\b)',tweet)\n",
    "that = re.findall(r'(http\\S*)',tweet)\n"
   ]
  },
  {
   "cell_type": "code",
   "execution_count": 21,
   "metadata": {},
   "outputs": [
    {
     "name": "stdout",
     "output_type": "stream",
     "text": [
      "http://pybit.es/requests-cache.html\n",
      "#python\n",
      "#APIs\n"
     ]
    }
   ],
   "source": [
    "for i in this:\n",
    "    for n in i:\n",
    "        if n != '':\n",
    "            print(n)"
   ]
  },
  {
   "cell_type": "code",
   "execution_count": null,
   "metadata": {},
   "outputs": [],
   "source": []
  }
 ],
 "metadata": {
  "kernelspec": {
   "display_name": "Python 3",
   "language": "python",
   "name": "python3"
  },
  "language_info": {
   "codemirror_mode": {
    "name": "ipython",
    "version": 3
   },
   "file_extension": ".py",
   "mimetype": "text/x-python",
   "name": "python",
   "nbconvert_exporter": "python",
   "pygments_lexer": "ipython3",
   "version": "3.6.7"
  }
 },
 "nbformat": 4,
 "nbformat_minor": 2
}
